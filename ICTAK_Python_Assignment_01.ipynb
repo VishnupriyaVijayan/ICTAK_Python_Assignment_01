{
 "cells": [
  {
   "cell_type": "raw",
   "id": "c5b0cd77",
   "metadata": {},
   "source": [
    "1. Write a Python Program to accept the details of a student like name, roll number and mark and display it.\n",
    "Sample input: Enter the name: Anisha\n",
    "Enter the roll number: 21\n",
    "Enter the mark: 78\n",
    "Sample output:\n",
    "Name: Anisha\n",
    "Roll No: 21\n",
    "Mark: 78"
   ]
  },
  {
   "cell_type": "code",
   "execution_count": 1,
   "id": "61999026",
   "metadata": {},
   "outputs": [
    {
     "name": "stdout",
     "output_type": "stream",
     "text": [
      "Enter the name: Vishnupriya\n",
      "Enter the roll number :60\n",
      "Enter the mark: 91\n",
      "\n",
      " Name:  Vishnupriya \n",
      " Roll No:  60 \n",
      " Mark:  91.0\n"
     ]
    }
   ],
   "source": [
    "name=input(\"Enter the name: \")\n",
    "rollno=int(input(\"Enter the roll number :\"))\n",
    "mark=float(input(\"Enter the mark: \"))\n",
    "\n",
    "print(\"\\n Name: \",name,'\\n Roll No: ',rollno,'\\n Mark: ',mark)"
   ]
  },
  {
   "cell_type": "raw",
   "id": "87cc4431",
   "metadata": {},
   "source": [
    "2. Write a Python program to convert temperatures to and from Celsius Fahrenheit.\n",
    "[Formula: c/5=f-32/9 where c=temperature in Celsius and f= temperature in Fahrenheit.] \n",
    "Sample input: Temperature in Fahrenheit =41 \n",
    "Sample output: Temperature in Celsius =5"
   ]
  },
  {
   "cell_type": "code",
   "execution_count": 2,
   "id": "be77efc9",
   "metadata": {},
   "outputs": [
    {
     "name": "stdout",
     "output_type": "stream",
     "text": [
      "Select\n",
      " 1.Fahrenheit...>Cesius\n",
      " 2.Cesius...>Fahrenheit\n",
      "1\n",
      "Enter temperature in Fahrenheit: 41\n",
      "Temperature in Celsius =187.222\n",
      "Enter 0 to exit 1 to continue:1\n",
      "Select\n",
      " 1.Fahrenheit...>Cesius\n",
      " 2.Cesius...>Fahrenheit\n",
      "2\n",
      "Enter temperature in Celsius: 41\n",
      "Temperature in Fahrenheit =11.756\n",
      "Enter 0 to exit 1 to continue:0\n"
     ]
    }
   ],
   "source": [
    "\n",
    "ch=1\n",
    "while(ch):\n",
    "    s=int(input(\"Select\\n 1.Fahrenheit...>Cesius\\n 2.Cesius...>Fahrenheit\\n\"))\n",
    "    if (s==1):\n",
    "        f=float(input(\"Enter temperature in Fahrenheit: \"))\n",
    "        c=5*(f-(32/9))\n",
    "        print(\"Temperature in Celsius ={0:.3f}\".format(c))\n",
    "        \n",
    "    else:\n",
    "        c=float(input(\"Enter temperature in Celsius: \"))\n",
    "        f=c/5+32/9\n",
    "        print(\"Temperature in Fahrenheit ={0:.3f}\".format(f))\n",
    "        \n",
    "    ch=int(input('Enter 0 to exit 1 to continue:'))\n",
    "       \n",
    "    "
   ]
  },
  {
   "cell_type": "raw",
   "id": "042f40b2",
   "metadata": {},
   "source": [
    "3. Write a Python program to accept two numbers from the user and display its product."
   ]
  },
  {
   "cell_type": "code",
   "execution_count": 3,
   "id": "a94c7530",
   "metadata": {},
   "outputs": [
    {
     "name": "stdout",
     "output_type": "stream",
     "text": [
      "Enter the first number: 32.7\n",
      "Enter the second number: 47.9\n",
      "Product of 32.7 and 47.9 is 1566.3300000000002\n"
     ]
    }
   ],
   "source": [
    "a=float(input(\"Enter the first number: \"))\n",
    "b=float(input(\"Enter the second number: \"))\n",
    "print(\"Product of\",a,'and',b,'is',a*b)"
   ]
  },
  {
   "cell_type": "raw",
   "id": "b7b59813",
   "metadata": {},
   "source": [
    "4. Write a Python program to accept a string “Learn Python by Developing a Website” \n",
    "and display the string like “Learn**Python** by Developing a **Website**”"
   ]
  },
  {
   "cell_type": "code",
   "execution_count": 4,
   "id": "9ba3991e",
   "metadata": {},
   "outputs": [
    {
     "name": "stdout",
     "output_type": "stream",
     "text": [
      "Enter the string: Learn Python by Developing a Website\n",
      "Learn Python by Developing a Website\n",
      "Learn\u001b[1m**Python**\u001b[0;0m by Developing a \u001b[1m**Website**\u001b[0;0m\n"
     ]
    }
   ],
   "source": [
    "s=input(\"Enter the string: \")\n",
    "print(s)\n",
    "s=s.replace(\" Python\",\"\\033[1m**Python**\\033[0;0m\")\n",
    "s=s.replace(\"Website\",\"\\033[1m**Website**\\033[0;0m\")\n",
    "print(s)"
   ]
  },
  {
   "cell_type": "raw",
   "id": "49e8f382",
   "metadata": {},
   "source": [
    "5. Write a Python program to accept the radius of a circle and display its area."
   ]
  },
  {
   "cell_type": "code",
   "execution_count": 5,
   "id": "048b2d22",
   "metadata": {},
   "outputs": [
    {
     "name": "stdout",
     "output_type": "stream",
     "text": [
      "Enter radius(cm): 3.7\n",
      "Area:43.01 sq.cm \n"
     ]
    }
   ],
   "source": [
    "import math\n",
    "r=float(input(\"Enter radius(cm): \"))\n",
    "print(\"Area:{0:.2f} sq.cm \".format(math.pi*r*r))"
   ]
  },
  {
   "cell_type": "raw",
   "id": "de575759",
   "metadata": {},
   "source": [
    "6. Python program to insert a number to any position in a list (Get the number to be inserted and position from the user)"
   ]
  },
  {
   "cell_type": "code",
   "execution_count": 11,
   "id": "279a5ba0",
   "metadata": {},
   "outputs": [
    {
     "name": "stdout",
     "output_type": "stream",
     "text": [
      "Enter the list items : 5 10 15 20 25\n",
      "[5, 10, 15, 20, 25]\n",
      "Insert elements to list (y/n)? :y\n",
      "Enter element and position with comma 1,3\n",
      "[5, 10, 15, 1.0, 20, 25]\n",
      "Insert elements to list (y/n)? :y\n",
      "Enter element and position with comma 2,7\n",
      "[5, 10, 15, 1.0, 20, 25, 2.0]\n",
      "Insert elements to list (y/n)? :y\n",
      "Enter element and position with comma 3,10\n",
      "[5, 10, 15, 1.0, 20, 25, 2.0, 3.0]\n",
      "Insert elements to list (y/n)? :y\n",
      "Enter element and position with comma 4,11\n",
      "[5, 10, 15, 1.0, 20, 25, 2.0, 3.0, 4.0]\n",
      "Insert elements to list (y/n)? :y\n",
      "Enter element and position with comma 4,10\n",
      "[5, 10, 15, 1.0, 20, 25, 2.0, 3.0, 4.0, 4.0]\n",
      "Insert elements to list (y/n)? :n\n"
     ]
    }
   ],
   "source": [
    "list1 = [int(i) for i in input(\"Enter the list items : \").split()]\n",
    "print(list1)\n",
    "ch=input(\"Insert elements to list (y/n)? :\")\n",
    "while(ch=='y' or ch=='Y'):\n",
    "    ele,p= input(\"Enter element and position with comma \").split(\",\")\n",
    "    ele,p=float(ele),int(p)\n",
    "    list1.insert(p,ele)\n",
    "    print(list1)\n",
    "    ch=input(\"Insert elements to list (y/n)? :\")\n",
    "    "
   ]
  },
  {
   "cell_type": "raw",
   "id": "55f81202",
   "metadata": {},
   "source": [
    "7. Write a program to rename a key city to a location in the following dictionary.\n",
    "sample_dict = { \"name\": \"John\", \"age\":5, \"salary\": 8000, \"city\": \"New York\"}\n"
   ]
  },
  {
   "cell_type": "code",
   "execution_count": 12,
   "id": "df641dc5",
   "metadata": {},
   "outputs": [
    {
     "name": "stdout",
     "output_type": "stream",
     "text": [
      "{'name': 'John', 'age': 5, 'salary': 8000, 'city': 'New York'}\n",
      "Updates sample_dict: \n",
      "  {'name': 'John', 'age': 5, 'salary': 8000, 'location': 'New York'}\n"
     ]
    }
   ],
   "source": [
    "sample_dict = { \"name\": \"John\", \"age\":5, \"salary\": 8000, \"city\": \"New York\"}\n",
    "print(sample_dict)\n",
    "sample_dict['location']=sample_dict.pop('city')\n",
    "print('Updates sample_dict: \\n ',sample_dict)"
   ]
  },
  {
   "cell_type": "raw",
   "id": "46d74952",
   "metadata": {},
   "source": [
    "8. Write a Python program to change Brad’s salary to 8500 in the following dictionary.\n",
    "sample_dict = {\n",
    "'emp1': {'name': 'John', 'salary': 7500},\n",
    "'emp2': {'name': 'Emma', 'salary': 8000},\n",
    "'emp3': {'name': 'Brad', 'salary': 500}\n",
    "}"
   ]
  },
  {
   "cell_type": "code",
   "execution_count": 13,
   "id": "882f048a",
   "metadata": {},
   "outputs": [
    {
     "name": "stdout",
     "output_type": "stream",
     "text": [
      "{'emp1': {'name': 'John', 'salary': 7500}, 'emp2': {'name': 'Emma', 'salary': 8000}, 'emp3': {'name': 'Brad', 'salary': 8500}}\n"
     ]
    }
   ],
   "source": [
    "sample_dict = {'emp1': {'name': 'John', 'salary': 7500},\n",
    "               'emp2': {'name': 'Emma', 'salary': 8000},\n",
    "               'emp3': {'name': 'Brad', 'salary': 500}}\n",
    "sample_dict['emp3']['salary']=8500\n",
    "print(sample_dict)"
   ]
  },
  {
   "cell_type": "raw",
   "id": "521dc0f0",
   "metadata": {},
   "source": [
    "9. Write a program to copy elements 43 and 54 from the following tuple into a new tuple. Given:\n",
    "tuple1 = (10, 20, 43, 54, 56, 68)"
   ]
  },
  {
   "cell_type": "code",
   "execution_count": 14,
   "id": "25b6071e",
   "metadata": {},
   "outputs": [
    {
     "name": "stdout",
     "output_type": "stream",
     "text": [
      "(43, 54)\n"
     ]
    }
   ],
   "source": [
    "tuple1 = (10, 20, 43, 54, 56, 68)\n",
    "tuple2=tuple1[2:4]\n",
    "print(tuple2)"
   ]
  },
  {
   "cell_type": "raw",
   "id": "fd59a3fa",
   "metadata": {},
   "source": [
    "10. Counts the number of occurrences of item 50 from a tuple\n",
    "tuple1 = (50, 10, 60, 70, 50,83,567,50,81)"
   ]
  },
  {
   "cell_type": "code",
   "execution_count": 15,
   "id": "d9b1ecbb",
   "metadata": {},
   "outputs": [
    {
     "data": {
      "text/plain": [
       "3"
      ]
     },
     "execution_count": 15,
     "metadata": {},
     "output_type": "execute_result"
    }
   ],
   "source": [
    "tuple1 = (50, 10, 60, 70, 50,83,567,50,81)\n",
    "tuple1.count(50)"
   ]
  },
  {
   "cell_type": "code",
   "execution_count": null,
   "id": "8d9eaed1",
   "metadata": {},
   "outputs": [],
   "source": []
  }
 ],
 "metadata": {
  "kernelspec": {
   "display_name": "Python 3",
   "language": "python",
   "name": "python3"
  },
  "language_info": {
   "codemirror_mode": {
    "name": "ipython",
    "version": 3
   },
   "file_extension": ".py",
   "mimetype": "text/x-python",
   "name": "python",
   "nbconvert_exporter": "python",
   "pygments_lexer": "ipython3",
   "version": "3.8.8"
  }
 },
 "nbformat": 4,
 "nbformat_minor": 5
}
